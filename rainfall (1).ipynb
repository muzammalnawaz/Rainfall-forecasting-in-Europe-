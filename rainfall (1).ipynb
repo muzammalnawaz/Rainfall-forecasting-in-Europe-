{
  "nbformat": 4,
  "nbformat_minor": 0,
  "metadata": {
    "colab": {
      "name": "rainfall.ipynb",
      "provenance": []
    },
    "kernelspec": {
      "name": "python3",
      "display_name": "Python 3"
    },
    "language_info": {
      "name": "python"
    }
  },
  "cells": [
    {
      "cell_type": "code",
      "source": [
        "pip install metpy"
      ],
      "metadata": {
        "colab": {
          "base_uri": "https://localhost:8080/",
          "height": 936
        },
        "id": "G5XtcPrNaF3-",
        "outputId": "dc176b38-3c26-4214-a243-c3f329445e8d"
      },
      "execution_count": null,
      "outputs": [
        {
          "output_type": "stream",
          "name": "stdout",
          "text": [
            "Looking in indexes: https://pypi.org/simple, https://us-python.pkg.dev/colab-wheels/public/simple/\n",
            "Collecting metpy\n",
            "  Downloading MetPy-1.2.0-py3-none-any.whl (367 kB)\n",
            "\u001b[K     |████████████████████████████████| 367 kB 7.4 MB/s \n",
            "\u001b[?25hCollecting pyproj>=2.5.0\n",
            "  Downloading pyproj-3.2.1-cp37-cp37m-manylinux2010_x86_64.whl (6.3 MB)\n",
            "\u001b[K     |████████████████████████████████| 6.3 MB 52.9 MB/s \n",
            "\u001b[?25hCollecting matplotlib>=3.3.0\n",
            "  Downloading matplotlib-3.5.2-cp37-cp37m-manylinux_2_5_x86_64.manylinux1_x86_64.whl (11.2 MB)\n",
            "\u001b[K     |████████████████████████████████| 11.2 MB 43.9 MB/s \n",
            "\u001b[?25hRequirement already satisfied: scipy>=1.2.0 in /usr/local/lib/python3.7/dist-packages (from metpy) (1.7.3)\n",
            "Requirement already satisfied: importlib-metadata>=1.0.0 in /usr/local/lib/python3.7/dist-packages (from metpy) (4.12.0)\n",
            "Requirement already satisfied: importlib-resources>=1.3.0 in /usr/local/lib/python3.7/dist-packages (from metpy) (5.8.0)\n",
            "Requirement already satisfied: pooch>=0.1 in /usr/local/lib/python3.7/dist-packages (from metpy) (1.6.0)\n",
            "Requirement already satisfied: numpy>=1.17.0 in /usr/local/lib/python3.7/dist-packages (from metpy) (1.21.6)\n",
            "Collecting pint>=0.10.1\n",
            "  Downloading Pint-0.18-py2.py3-none-any.whl (209 kB)\n",
            "\u001b[K     |████████████████████████████████| 209 kB 61.2 MB/s \n",
            "\u001b[?25hRequirement already satisfied: traitlets>=4.3.0 in /usr/local/lib/python3.7/dist-packages (from metpy) (5.1.1)\n",
            "Requirement already satisfied: pandas>=0.24.0 in /usr/local/lib/python3.7/dist-packages (from metpy) (1.3.5)\n",
            "Requirement already satisfied: xarray>=0.14.1 in /usr/local/lib/python3.7/dist-packages (from metpy) (0.20.2)\n",
            "Requirement already satisfied: typing-extensions>=3.6.4 in /usr/local/lib/python3.7/dist-packages (from importlib-metadata>=1.0.0->metpy) (4.1.1)\n",
            "Requirement already satisfied: zipp>=0.5 in /usr/local/lib/python3.7/dist-packages (from importlib-metadata>=1.0.0->metpy) (3.8.0)\n",
            "Requirement already satisfied: kiwisolver>=1.0.1 in /usr/local/lib/python3.7/dist-packages (from matplotlib>=3.3.0->metpy) (1.4.3)\n",
            "Requirement already satisfied: packaging>=20.0 in /usr/local/lib/python3.7/dist-packages (from matplotlib>=3.3.0->metpy) (21.3)\n",
            "Requirement already satisfied: python-dateutil>=2.7 in /usr/local/lib/python3.7/dist-packages (from matplotlib>=3.3.0->metpy) (2.8.2)\n",
            "Requirement already satisfied: pillow>=6.2.0 in /usr/local/lib/python3.7/dist-packages (from matplotlib>=3.3.0->metpy) (7.1.2)\n",
            "Requirement already satisfied: pyparsing>=2.2.1 in /usr/local/lib/python3.7/dist-packages (from matplotlib>=3.3.0->metpy) (3.0.9)\n",
            "Collecting fonttools>=4.22.0\n",
            "  Downloading fonttools-4.34.4-py3-none-any.whl (944 kB)\n",
            "\u001b[K     |████████████████████████████████| 944 kB 67.8 MB/s \n",
            "\u001b[?25hRequirement already satisfied: cycler>=0.10 in /usr/local/lib/python3.7/dist-packages (from matplotlib>=3.3.0->metpy) (0.11.0)\n",
            "Requirement already satisfied: pytz>=2017.3 in /usr/local/lib/python3.7/dist-packages (from pandas>=0.24.0->metpy) (2022.1)\n",
            "Requirement already satisfied: requests>=2.19.0 in /usr/local/lib/python3.7/dist-packages (from pooch>=0.1->metpy) (2.23.0)\n",
            "Requirement already satisfied: appdirs>=1.3.0 in /usr/local/lib/python3.7/dist-packages (from pooch>=0.1->metpy) (1.4.4)\n",
            "Requirement already satisfied: certifi in /usr/local/lib/python3.7/dist-packages (from pyproj>=2.5.0->metpy) (2022.6.15)\n",
            "Requirement already satisfied: six>=1.5 in /usr/local/lib/python3.7/dist-packages (from python-dateutil>=2.7->matplotlib>=3.3.0->metpy) (1.15.0)\n",
            "Requirement already satisfied: urllib3!=1.25.0,!=1.25.1,<1.26,>=1.21.1 in /usr/local/lib/python3.7/dist-packages (from requests>=2.19.0->pooch>=0.1->metpy) (1.24.3)\n",
            "Requirement already satisfied: chardet<4,>=3.0.2 in /usr/local/lib/python3.7/dist-packages (from requests>=2.19.0->pooch>=0.1->metpy) (3.0.4)\n",
            "Requirement already satisfied: idna<3,>=2.5 in /usr/local/lib/python3.7/dist-packages (from requests>=2.19.0->pooch>=0.1->metpy) (2.10)\n",
            "Installing collected packages: fonttools, pyproj, pint, matplotlib, metpy\n",
            "  Attempting uninstall: matplotlib\n",
            "    Found existing installation: matplotlib 3.2.2\n",
            "    Uninstalling matplotlib-3.2.2:\n",
            "      Successfully uninstalled matplotlib-3.2.2\n",
            "\u001b[31mERROR: pip's dependency resolver does not currently take into account all the packages that are installed. This behaviour is the source of the following dependency conflicts.\n",
            "albumentations 0.1.12 requires imgaug<0.2.7,>=0.2.5, but you have imgaug 0.2.9 which is incompatible.\u001b[0m\n",
            "Successfully installed fonttools-4.34.4 matplotlib-3.5.2 metpy-1.2.0 pint-0.18 pyproj-3.2.1\n"
          ]
        },
        {
          "output_type": "display_data",
          "data": {
            "application/vnd.colab-display-data+json": {
              "pip_warning": {
                "packages": [
                  "matplotlib",
                  "mpl_toolkits"
                ]
              }
            }
          },
          "metadata": {}
        }
      ]
    },
    {
      "cell_type": "code",
      "source": [
        "pip install geopandas"
      ],
      "metadata": {
        "colab": {
          "base_uri": "https://localhost:8080/"
        },
        "id": "zp8uH5WYZ764",
        "outputId": "b6b0178d-22ee-4e14-82e5-b588dfbc5ff2"
      },
      "execution_count": null,
      "outputs": [
        {
          "output_type": "stream",
          "name": "stdout",
          "text": [
            "Looking in indexes: https://pypi.org/simple, https://us-python.pkg.dev/colab-wheels/public/simple/\n",
            "Collecting geopandas\n",
            "  Downloading geopandas-0.10.2-py2.py3-none-any.whl (1.0 MB)\n",
            "\u001b[K     |████████████████████████████████| 1.0 MB 8.2 MB/s \n",
            "\u001b[?25hCollecting fiona>=1.8\n",
            "  Downloading Fiona-1.8.21-cp37-cp37m-manylinux2014_x86_64.whl (16.7 MB)\n",
            "\u001b[K     |████████████████████████████████| 16.7 MB 41.1 MB/s \n",
            "\u001b[?25hRequirement already satisfied: pandas>=0.25.0 in /usr/local/lib/python3.7/dist-packages (from geopandas) (1.3.5)\n",
            "Requirement already satisfied: pyproj>=2.2.0 in /usr/local/lib/python3.7/dist-packages (from geopandas) (3.2.1)\n",
            "Requirement already satisfied: shapely>=1.6 in /usr/local/lib/python3.7/dist-packages (from geopandas) (1.8.2)\n",
            "Collecting click-plugins>=1.0\n",
            "  Downloading click_plugins-1.1.1-py2.py3-none-any.whl (7.5 kB)\n",
            "Requirement already satisfied: certifi in /usr/local/lib/python3.7/dist-packages (from fiona>=1.8->geopandas) (2022.6.15)\n",
            "Requirement already satisfied: click>=4.0 in /usr/local/lib/python3.7/dist-packages (from fiona>=1.8->geopandas) (7.1.2)\n",
            "Collecting cligj>=0.5\n",
            "  Downloading cligj-0.7.2-py3-none-any.whl (7.1 kB)\n",
            "Collecting munch\n",
            "  Downloading munch-2.5.0-py2.py3-none-any.whl (10 kB)\n",
            "Requirement already satisfied: setuptools in /usr/local/lib/python3.7/dist-packages (from fiona>=1.8->geopandas) (57.4.0)\n",
            "Requirement already satisfied: six>=1.7 in /usr/local/lib/python3.7/dist-packages (from fiona>=1.8->geopandas) (1.15.0)\n",
            "Requirement already satisfied: attrs>=17 in /usr/local/lib/python3.7/dist-packages (from fiona>=1.8->geopandas) (21.4.0)\n",
            "Requirement already satisfied: python-dateutil>=2.7.3 in /usr/local/lib/python3.7/dist-packages (from pandas>=0.25.0->geopandas) (2.8.2)\n",
            "Requirement already satisfied: numpy>=1.17.3 in /usr/local/lib/python3.7/dist-packages (from pandas>=0.25.0->geopandas) (1.21.6)\n",
            "Requirement already satisfied: pytz>=2017.3 in /usr/local/lib/python3.7/dist-packages (from pandas>=0.25.0->geopandas) (2022.1)\n",
            "Installing collected packages: munch, cligj, click-plugins, fiona, geopandas\n",
            "Successfully installed click-plugins-1.1.1 cligj-0.7.2 fiona-1.8.21 geopandas-0.10.2 munch-2.5.0\n"
          ]
        }
      ]
    },
    {
      "cell_type": "code",
      "source": [
        "pip install cartopy"
      ],
      "metadata": {
        "colab": {
          "base_uri": "https://localhost:8080/"
        },
        "id": "8dUW6jWkZWb2",
        "outputId": "aba08e58-f3b1-4aee-d712-70b4705ad804"
      },
      "execution_count": null,
      "outputs": [
        {
          "output_type": "stream",
          "name": "stdout",
          "text": [
            "Looking in indexes: https://pypi.org/simple, https://us-python.pkg.dev/colab-wheels/public/simple/\n",
            "Collecting cartopy\n",
            "  Downloading Cartopy-0.20.3.tar.gz (10.8 MB)\n",
            "\u001b[K     |████████████████████████████████| 10.8 MB 8.2 MB/s \n",
            "\u001b[?25h  Installing build dependencies ... \u001b[?25l\u001b[?25hdone\n",
            "  Getting requirements to build wheel ... \u001b[?25l\u001b[?25herror\n",
            "\u001b[33mWARNING: Discarding https://files.pythonhosted.org/packages/98/a9/0e4000eabadfcff6373c0fec790863b543b919cbfec18aed60d71ba67d5d/Cartopy-0.20.3.tar.gz#sha256=0d60fa2e2fbd77c4d1f6b1f9d3b588966147f07c1b179d2d34570ac1e1b49006 (from https://pypi.org/simple/cartopy/) (requires-python:>=3.7). Command errored out with exit status 1: /usr/bin/python3 /usr/local/lib/python3.7/dist-packages/pip/_vendor/pep517/in_process/_in_process.py get_requires_for_build_wheel /tmp/tmpcjyc9c1a Check the logs for full command output.\u001b[0m\n",
            "  Downloading Cartopy-0.20.2.tar.gz (10.8 MB)\n",
            "\u001b[K     |████████████████████████████████| 10.8 MB 47.2 MB/s \n",
            "\u001b[?25h  Installing build dependencies ... \u001b[?25l\u001b[?25hdone\n",
            "  Getting requirements to build wheel ... \u001b[?25l\u001b[?25herror\n",
            "\u001b[33mWARNING: Discarding https://files.pythonhosted.org/packages/f6/55/1e1c737dc9436b320deead73d1c455ddbb74b8b6992081863492f6f6378a/Cartopy-0.20.2.tar.gz#sha256=4d08c198ecaa50a6a6b109d0f14c070e813defc046a83ac5d7ab494f85599e35 (from https://pypi.org/simple/cartopy/) (requires-python:>=3.7). Command errored out with exit status 1: /usr/bin/python3 /usr/local/lib/python3.7/dist-packages/pip/_vendor/pep517/in_process/_in_process.py get_requires_for_build_wheel /tmp/tmpl6xeq82n Check the logs for full command output.\u001b[0m\n",
            "  Downloading Cartopy-0.20.1.tar.gz (10.8 MB)\n",
            "\u001b[K     |████████████████████████████████| 10.8 MB 42.4 MB/s \n",
            "\u001b[?25h  Installing build dependencies ... \u001b[?25l\u001b[?25hdone\n",
            "  Getting requirements to build wheel ... \u001b[?25l\u001b[?25herror\n",
            "\u001b[33mWARNING: Discarding https://files.pythonhosted.org/packages/fc/59/aa52698e3838f4cd0e7eaa75bd86837e9e0b05041dbdaee3cda2fffced06/Cartopy-0.20.1.tar.gz#sha256=91f87b130e2574547a20cd634498df97d797abd12dcfd0235bc0cdbcec8b05e3 (from https://pypi.org/simple/cartopy/) (requires-python:>=3.7). Command errored out with exit status 1: /usr/bin/python3 /usr/local/lib/python3.7/dist-packages/pip/_vendor/pep517/in_process/_in_process.py get_requires_for_build_wheel /tmp/tmp8odzaf7j Check the logs for full command output.\u001b[0m\n",
            "  Downloading Cartopy-0.20.0.tar.gz (10.8 MB)\n",
            "\u001b[K     |████████████████████████████████| 10.8 MB 41.3 MB/s \n",
            "\u001b[?25h  Installing build dependencies ... \u001b[?25l\u001b[?25hdone\n",
            "  Getting requirements to build wheel ... \u001b[?25l\u001b[?25herror\n",
            "\u001b[33mWARNING: Discarding https://files.pythonhosted.org/packages/0f/c0/58453b036e79046d211f083880d58dcce787e7e07647ac25dc46c6555099/Cartopy-0.20.0.tar.gz#sha256=eae58aff26806e63cf115b2bce9477cedc4aa9f578c5e477b2c25cfa404f2b7a (from https://pypi.org/simple/cartopy/) (requires-python:>=3.7). Command errored out with exit status 1: /usr/bin/python3 /usr/local/lib/python3.7/dist-packages/pip/_vendor/pep517/in_process/_in_process.py get_requires_for_build_wheel /tmp/tmp52wkh_x4 Check the logs for full command output.\u001b[0m\n",
            "  Downloading Cartopy-0.19.0.post1.tar.gz (12.1 MB)\n",
            "\u001b[K     |████████████████████████████████| 12.1 MB 47.9 MB/s \n",
            "\u001b[?25h  Installing build dependencies ... \u001b[?25l\u001b[?25hdone\n",
            "  Getting requirements to build wheel ... \u001b[?25l\u001b[?25hdone\n",
            "    Preparing wheel metadata ... \u001b[?25l\u001b[?25hdone\n",
            "Collecting pyshp>=2\n",
            "  Downloading pyshp-2.3.0-py2.py3-none-any.whl (46 kB)\n",
            "\u001b[K     |████████████████████████████████| 46 kB 5.3 MB/s \n",
            "\u001b[?25hRequirement already satisfied: numpy>=1.13.3 in /usr/local/lib/python3.7/dist-packages (from cartopy) (1.21.6)\n",
            "Requirement already satisfied: shapely>=1.5.6 in /usr/local/lib/python3.7/dist-packages (from cartopy) (1.8.2)\n",
            "Building wheels for collected packages: cartopy\n",
            "  Building wheel for cartopy (PEP 517) ... \u001b[?25l\u001b[?25hdone\n",
            "  Created wheel for cartopy: filename=Cartopy-0.19.0.post1-cp37-cp37m-linux_x86_64.whl size=12516303 sha256=674006fc1fa9fad610c90de87be9e456aa1ba2d2588a7c32b9dd27e284ccb1dd\n",
            "  Stored in directory: /root/.cache/pip/wheels/98/01/f7/bd10aeb96fe4b518cde5f7c4f5e12c7202f85b7353a5017847\n",
            "Successfully built cartopy\n",
            "Installing collected packages: pyshp, cartopy\n",
            "Successfully installed cartopy-0.19.0.post1 pyshp-2.3.0\n"
          ]
        }
      ]
    },
    {
      "cell_type": "code",
      "execution_count": null,
      "metadata": {
        "colab": {
          "base_uri": "https://localhost:8080/"
        },
        "id": "i0B0c9EzYrLc",
        "outputId": "90e6039b-bdb4-49d0-97c3-189f19a9aa7d"
      },
      "outputs": [
        {
          "output_type": "stream",
          "name": "stdout",
          "text": [
            "Mounted at /content/drive\n"
          ]
        }
      ],
      "source": [
        "import numpy as np\n",
        "import pandas as pd\n",
        "import seaborn as sns\n",
        "import matplotlib.pyplot as plt\n",
        "from sklearn.ensemble import RandomForestRegressor\n",
        "sns.set()\n",
        "from google.colab import drive\n",
        "drive.mount('/content/drive')\n",
        "\n",
        "import xarray as xr\n",
        "import cartopy.crs as ccrs\n",
        "from cartopy.util import add_cyclic_point\n",
        "import geopandas\n",
        "from shapely.geometry import mapping\n",
        "import shapefile as shp\n",
        "\n",
        "from scipy.io import netcdf\n",
        "import numpy as np\n",
        "import matplotlib\n",
        "from metpy.cbook import get_test_data\n",
        "\n",
        "import netCDF4"
      ]
    },
    {
      "cell_type": "code",
      "source": [
        "precip_nc_file = '/content/drive/MyDrive/Dataset/rr_ens_mean_0.1deg_reg_2011-2021_v25.0e.nc'\n",
        "nc = netCDF4.Dataset(precip_nc_file, mode='r')"
      ],
      "metadata": {
        "id": "gMm0H6Y8aPUD"
      },
      "execution_count": null,
      "outputs": []
    },
    {
      "cell_type": "code",
      "source": [
        "nc"
      ],
      "metadata": {
        "colab": {
          "base_uri": "https://localhost:8080/"
        },
        "id": "ennbY8aAbIAb",
        "outputId": "368b0a85-00ab-4b9a-de6c-819acc896abd"
      },
      "execution_count": null,
      "outputs": [
        {
          "output_type": "execute_result",
          "data": {
            "text/plain": [
              "<class 'netCDF4._netCDF4.Dataset'>\n",
              "root group (NETCDF4 data model, file format HDF5):\n",
              "    E-OBS_version: 25.0e\n",
              "    Conventions: CF-1.4\n",
              "    References: http://surfobs.climate.copernicus.eu/dataaccess/access_eobs.php\n",
              "    history: Mon Mar 28 12:53:22 2022: ncks --no-abc -d time,22280,26297 /data3/Else/EOBSv25.0e/Grid_0.1deg/rr//rr_ensmean_master_rectime.nc /data3/Else/EOBSv25.0e/Grid_0.1deg/rr//rr_ens_mean_0.1deg_reg_2011-2021_v25.0e.nc\n",
              "Mon Mar 28 12:46:22 2022: ncks --no-abc --mk_rec_dmn time /data3/Else/EOBSv25.0e/Grid_0.1deg/rr//rr_ensmean_master.nc /data3/Else/EOBSv25.0e/Grid_0.1deg/rr//rr_ensmean_master_rectime.nc\n",
              "    NCO: netCDF Operators version 4.7.5 (Homepage = http://nco.sf.net, Code = http://github.com/nco/nco)\n",
              "    dimensions(sizes): longitude(705), latitude(465), time(4018)\n",
              "    variables(dimensions): float64 longitude(longitude), float64 latitude(latitude), int32 time(time), int16 rr(time, latitude, longitude)\n",
              "    groups: "
            ]
          },
          "metadata": {},
          "execution_count": 6
        }
      ]
    },
    {
      "cell_type": "code",
      "source": [
        "for dim in nc.dimensions.values():\n",
        "    print(dim)"
      ],
      "metadata": {
        "colab": {
          "base_uri": "https://localhost:8080/"
        },
        "id": "_dLC3nE5bMML",
        "outputId": "0be524fe-8a9d-448c-9ec2-d7ec57d33bdb"
      },
      "execution_count": null,
      "outputs": [
        {
          "output_type": "stream",
          "name": "stdout",
          "text": [
            "<class 'netCDF4._netCDF4.Dimension'>: name = 'longitude', size = 705\n",
            "<class 'netCDF4._netCDF4.Dimension'>: name = 'latitude', size = 465\n",
            "<class 'netCDF4._netCDF4.Dimension'> (unlimited): name = 'time', size = 4018\n"
          ]
        }
      ]
    },
    {
      "cell_type": "code",
      "source": [
        "print(type(nc))"
      ],
      "metadata": {
        "colab": {
          "base_uri": "https://localhost:8080/"
        },
        "id": "TNvR7H3UbNwn",
        "outputId": "684e2ab7-2c73-419e-e334-ee2c1e5504f5"
      },
      "execution_count": null,
      "outputs": [
        {
          "output_type": "stream",
          "name": "stdout",
          "text": [
            "<class 'netCDF4._netCDF4.Dataset'>\n"
          ]
        }
      ]
    },
    {
      "cell_type": "code",
      "source": [
        "print(nc.dimensions)"
      ],
      "metadata": {
        "colab": {
          "base_uri": "https://localhost:8080/"
        },
        "id": "iODBb4YweEB_",
        "outputId": "46d39861-7d21-4231-fcab-c6fdf97be1d3"
      },
      "execution_count": null,
      "outputs": [
        {
          "output_type": "stream",
          "name": "stdout",
          "text": [
            "{'longitude': <class 'netCDF4._netCDF4.Dimension'>: name = 'longitude', size = 705, 'latitude': <class 'netCDF4._netCDF4.Dimension'>: name = 'latitude', size = 465, 'time': <class 'netCDF4._netCDF4.Dimension'> (unlimited): name = 'time', size = 4018}\n"
          ]
        }
      ]
    },
    {
      "cell_type": "code",
      "source": [
        "print(repr(nc))"
      ],
      "metadata": {
        "colab": {
          "base_uri": "https://localhost:8080/"
        },
        "id": "k3NZsh92LEj0",
        "outputId": "8573bbe4-c0aa-4240-a4ab-f9323b286d2e"
      },
      "execution_count": null,
      "outputs": [
        {
          "output_type": "stream",
          "name": "stdout",
          "text": [
            "<class 'netCDF4._netCDF4.Dataset'>\n",
            "root group (NETCDF4 data model, file format HDF5):\n",
            "    E-OBS_version: 25.0e\n",
            "    Conventions: CF-1.4\n",
            "    References: http://surfobs.climate.copernicus.eu/dataaccess/access_eobs.php\n",
            "    history: Mon Mar 28 12:53:22 2022: ncks --no-abc -d time,22280,26297 /data3/Else/EOBSv25.0e/Grid_0.1deg/rr//rr_ensmean_master_rectime.nc /data3/Else/EOBSv25.0e/Grid_0.1deg/rr//rr_ens_mean_0.1deg_reg_2011-2021_v25.0e.nc\n",
            "Mon Mar 28 12:46:22 2022: ncks --no-abc --mk_rec_dmn time /data3/Else/EOBSv25.0e/Grid_0.1deg/rr//rr_ensmean_master.nc /data3/Else/EOBSv25.0e/Grid_0.1deg/rr//rr_ensmean_master_rectime.nc\n",
            "    NCO: netCDF Operators version 4.7.5 (Homepage = http://nco.sf.net, Code = http://github.com/nco/nco)\n",
            "    dimensions(sizes): longitude(705), latitude(465), time(4018)\n",
            "    variables(dimensions): float64 longitude(longitude), float64 latitude(latitude), int32 time(time), int16 rr(time, latitude, longitude)\n",
            "    groups: \n"
          ]
        }
      ]
    },
    {
      "cell_type": "code",
      "source": [
        "print(nc.variables[\"longitude\"])"
      ],
      "metadata": {
        "colab": {
          "base_uri": "https://localhost:8080/"
        },
        "id": "GZvg51R7LhQ5",
        "outputId": "b8769d61-5dcd-4418-8244-e5be1d528509"
      },
      "execution_count": null,
      "outputs": [
        {
          "output_type": "stream",
          "name": "stdout",
          "text": [
            "<class 'netCDF4._netCDF4.Variable'>\n",
            "float64 longitude(longitude)\n",
            "    units: degrees_east\n",
            "    long_name: Longitude values\n",
            "    axis: X\n",
            "    standard_name: longitude\n",
            "unlimited dimensions: \n",
            "current shape = (705,)\n",
            "filling on, default _FillValue of 9.969209968386869e+36 used\n"
          ]
        }
      ]
    },
    {
      "cell_type": "code",
      "source": [
        "print(nc.variables[\"latitude\"])"
      ],
      "metadata": {
        "colab": {
          "base_uri": "https://localhost:8080/"
        },
        "id": "N_bCFUucLnGT",
        "outputId": "85ea287c-5ad2-4f18-b017-79f1499a94ab"
      },
      "execution_count": null,
      "outputs": [
        {
          "output_type": "stream",
          "name": "stdout",
          "text": [
            "<class 'netCDF4._netCDF4.Variable'>\n",
            "float64 latitude(latitude)\n",
            "    units: degrees_north\n",
            "    long_name: Latitude values\n",
            "    axis: Y\n",
            "    standard_name: latitude\n",
            "unlimited dimensions: \n",
            "current shape = (465,)\n",
            "filling on, default _FillValue of 9.969209968386869e+36 used\n"
          ]
        }
      ]
    },
    {
      "cell_type": "code",
      "source": [
        "print(nc.variables[\"time\"])"
      ],
      "metadata": {
        "colab": {
          "base_uri": "https://localhost:8080/"
        },
        "id": "Ow_jy9CvLok8",
        "outputId": "619fe6b1-1673-4e38-9389-f37cbff15dfe"
      },
      "execution_count": null,
      "outputs": [
        {
          "output_type": "stream",
          "name": "stdout",
          "text": [
            "<class 'netCDF4._netCDF4.Variable'>\n",
            "int32 time(time)\n",
            "    units: days since 1950-01-01 00:00\n",
            "    long_name: Time in days\n",
            "    calendar: standard\n",
            "    standard_name: time\n",
            "    cell_methods: time: mean\n",
            "unlimited dimensions: time\n",
            "current shape = (4018,)\n",
            "filling on, default _FillValue of -2147483647 used\n"
          ]
        }
      ]
    },
    {
      "cell_type": "code",
      "source": [
        "print(nc.variables[\"rr\"])"
      ],
      "metadata": {
        "colab": {
          "base_uri": "https://localhost:8080/"
        },
        "id": "vqZaw-LSLq1-",
        "outputId": "b0b816ca-5ad5-4373-c2d7-81037fb49063"
      },
      "execution_count": null,
      "outputs": [
        {
          "output_type": "stream",
          "name": "stdout",
          "text": [
            "<class 'netCDF4._netCDF4.Variable'>\n",
            "int16 rr(time, latitude, longitude)\n",
            "    units: mm\n",
            "    _FillValue: -9999\n",
            "    long_name: rainfall\n",
            "    scale_factor: 0.1\n",
            "    add_offset: 0.0\n",
            "    standard_name: thickness_of_rainfall_amount\n",
            "    cell_methods: time: mean\n",
            "unlimited dimensions: time\n",
            "current shape = (4018, 465, 705)\n",
            "filling on\n"
          ]
        }
      ]
    },
    {
      "cell_type": "code",
      "source": [
        "print(nc.variables[\"longitude\"].datatype)\n",
        "print(nc.variables[\"latitude\"].datatype)\n",
        "print(nc.variables[\"time\"].datatype)\n",
        "print(nc.variables[\"rr\"].datatype)"
      ],
      "metadata": {
        "colab": {
          "base_uri": "https://localhost:8080/"
        },
        "id": "MJJm48AnLv7o",
        "outputId": "ed1e47bd-5a80-4293-8ec9-f82133f972b9"
      },
      "execution_count": null,
      "outputs": [
        {
          "output_type": "stream",
          "name": "stdout",
          "text": [
            "float64\n",
            "float64\n",
            "int32\n",
            "int16\n"
          ]
        }
      ]
    },
    {
      "cell_type": "code",
      "source": [
        "print(nc.variables[\"longitude\"].dimensions)\n",
        "print(nc.variables[\"latitude\"].dimensions)\n",
        "print(nc.variables[\"time\"].dimensions)\n",
        "print(nc.variables[\"rr\"].dimensions)"
      ],
      "metadata": {
        "colab": {
          "base_uri": "https://localhost:8080/"
        },
        "id": "Q7GxDEmoMBf6",
        "outputId": "a10ff810-3ec4-4eb9-b46d-d27fedc00554"
      },
      "execution_count": null,
      "outputs": [
        {
          "output_type": "stream",
          "name": "stdout",
          "text": [
            "('longitude',)\n",
            "('latitude',)\n",
            "('time',)\n",
            "('time', 'latitude', 'longitude')\n"
          ]
        }
      ]
    },
    {
      "cell_type": "code",
      "source": [
        "DATA_LONG = nc.variables[\"longitude\"][:]\n",
        "DATA_LAT = nc.variables[\"latitude\"][:]\n",
        "DATA_TIME = nc.variables[\"time\"][:]\n",
        "DATA_rr = nc.variables[\"rr\"][0,:,:]"
      ],
      "metadata": {
        "id": "-uTHJxKPMmlv"
      },
      "execution_count": null,
      "outputs": []
    },
    {
      "cell_type": "code",
      "source": [
        "print(type(DATA_LONG))\n",
        "print(type(DATA_LAT))\n",
        "print(type(DATA_TIME))\n",
        "print(type(DATA_rr))"
      ],
      "metadata": {
        "colab": {
          "base_uri": "https://localhost:8080/"
        },
        "id": "P9JLEW7vM_QH",
        "outputId": "13bbb180-7cd6-4714-aeb8-d2c93a145a55"
      },
      "execution_count": null,
      "outputs": [
        {
          "output_type": "stream",
          "name": "stdout",
          "text": [
            "<class 'numpy.ma.core.MaskedArray'>\n",
            "<class 'numpy.ma.core.MaskedArray'>\n",
            "<class 'numpy.ma.core.MaskedArray'>\n",
            "<class 'numpy.ma.core.MaskedArray'>\n"
          ]
        }
      ]
    },
    {
      "cell_type": "code",
      "source": [
        "nc.variables[\"time\"]"
      ],
      "metadata": {
        "colab": {
          "base_uri": "https://localhost:8080/"
        },
        "id": "XZQ2q54YNatL",
        "outputId": "b9f4d557-52d9-4a14-bc39-97ae391443e7"
      },
      "execution_count": null,
      "outputs": [
        {
          "output_type": "execute_result",
          "data": {
            "text/plain": [
              "<class 'netCDF4._netCDF4.Variable'>\n",
              "int32 time(time)\n",
              "    units: days since 1950-01-01 00:00\n",
              "    long_name: Time in days\n",
              "    calendar: standard\n",
              "    standard_name: time\n",
              "    cell_methods: time: mean\n",
              "unlimited dimensions: time\n",
              "current shape = (4018,)\n",
              "filling on, default _FillValue of -2147483647 used"
            ]
          },
          "metadata": {},
          "execution_count": 19
        }
      ]
    },
    {
      "cell_type": "code",
      "source": [
        "print(DATA_rr.shape)"
      ],
      "metadata": {
        "colab": {
          "base_uri": "https://localhost:8080/"
        },
        "id": "86SoezgPNkBb",
        "outputId": "46a5160e-d90b-42f9-aed6-9062bb3063ee"
      },
      "execution_count": null,
      "outputs": [
        {
          "output_type": "stream",
          "name": "stdout",
          "text": [
            "(465, 705)\n"
          ]
        }
      ]
    },
    {
      "cell_type": "code",
      "source": [
        "print(DATA_rr[:,0].shape)"
      ],
      "metadata": {
        "colab": {
          "base_uri": "https://localhost:8080/"
        },
        "id": "a2igYQzzNl3P",
        "outputId": "419468ba-5d55-438d-bda1-27b4782dea1b"
      },
      "execution_count": null,
      "outputs": [
        {
          "output_type": "stream",
          "name": "stdout",
          "text": [
            "(465,)\n"
          ]
        }
      ]
    },
    {
      "cell_type": "code",
      "source": [
        "print(type(DATA_rr[:,0]))\n",
        "print(type(DATA_rr[0,:]))"
      ],
      "metadata": {
        "colab": {
          "base_uri": "https://localhost:8080/"
        },
        "id": "QyTrHd54NvYG",
        "outputId": "ab86d634-d1ba-4445-943b-826df9e981b1"
      },
      "execution_count": null,
      "outputs": [
        {
          "output_type": "stream",
          "name": "stdout",
          "text": [
            "<class 'numpy.ma.core.MaskedArray'>\n",
            "<class 'numpy.ma.core.MaskedArray'>\n"
          ]
        }
      ]
    },
    {
      "cell_type": "code",
      "source": [
        "print(DATA_LONG.data[0:50])"
      ],
      "metadata": {
        "colab": {
          "base_uri": "https://localhost:8080/"
        },
        "id": "xwR-iIFMN31R",
        "outputId": "655413fb-cb8a-4a52-9912-170c17cda03c"
      },
      "execution_count": null,
      "outputs": [
        {
          "output_type": "stream",
          "name": "stdout",
          "text": [
            "[-24.95013951 -24.85013951 -24.75013951 -24.65013951 -24.55013951\n",
            " -24.45013951 -24.35013951 -24.25013951 -24.15013951 -24.05013951\n",
            " -23.95013951 -23.85013951 -23.75013951 -23.65013951 -23.55013951\n",
            " -23.45013952 -23.35013952 -23.25013952 -23.15013952 -23.05013952\n",
            " -22.95013952 -22.85013952 -22.75013952 -22.65013952 -22.55013952\n",
            " -22.45013952 -22.35013952 -22.25013952 -22.15013952 -22.05013952\n",
            " -21.95013952 -21.85013952 -21.75013952 -21.65013952 -21.55013952\n",
            " -21.45013952 -21.35013952 -21.25013952 -21.15013952 -21.05013952\n",
            " -20.95013953 -20.85013953 -20.75013953 -20.65013953 -20.55013953\n",
            " -20.45013953 -20.35013953 -20.25013953 -20.15013953 -20.05013953]\n"
          ]
        }
      ]
    },
    {
      "cell_type": "code",
      "source": [
        "rr_LAT = DATA_rr[:,0].data\n",
        "rr_LONG = DATA_rr[0,:].data"
      ],
      "metadata": {
        "id": "r95dXm-QN8ep"
      },
      "execution_count": null,
      "outputs": []
    },
    {
      "cell_type": "code",
      "source": [
        "print(type(rr_LAT))\n",
        "print(type(rr_LONG))"
      ],
      "metadata": {
        "colab": {
          "base_uri": "https://localhost:8080/"
        },
        "id": "Frd9xJCVOF9A",
        "outputId": "ad3fcd13-f605-4895-ddbe-2977fdfd607e"
      },
      "execution_count": null,
      "outputs": [
        {
          "output_type": "stream",
          "name": "stdout",
          "text": [
            "<class 'numpy.ndarray'>\n",
            "<class 'numpy.ndarray'>\n"
          ]
        }
      ]
    },
    {
      "cell_type": "code",
      "source": [
        "rr_LAT_SERIES = pd.Series(rr_LAT,name=\"rr_LAT\").astype(float)\n",
        "rr_LONG_SERIES = pd.Series(rr_LONG,name=\"rr_LONG\").astype(float)"
      ],
      "metadata": {
        "id": "kZH0cJWbOatN"
      },
      "execution_count": null,
      "outputs": []
    },
    {
      "cell_type": "code",
      "source": [
        "rr_COOR_DATA = pd.concat([rr_LAT_SERIES,rr_LONG_SERIES],axis=1)"
      ],
      "metadata": {
        "id": "ZDrzDMaDOnu8"
      },
      "execution_count": null,
      "outputs": []
    },
    {
      "cell_type": "code",
      "source": [
        "rr_COOR_DATA.dropna(inplace=True,axis=0)"
      ],
      "metadata": {
        "id": "OsDP-wKfO0sw"
      },
      "execution_count": null,
      "outputs": []
    },
    {
      "cell_type": "code",
      "source": [
        "DATA_LAT_SERIES = pd.Series(DATA_LAT.data,name=\"LATITUDE\")\n",
        "DATA_LONG_SERIES = pd.Series(DATA_LONG,name=\"LONGITUDE\")"
      ],
      "metadata": {
        "id": "eOi5k5uGO4Kr"
      },
      "execution_count": null,
      "outputs": []
    },
    {
      "cell_type": "code",
      "source": [
        "MAIN_DATA = pd.concat([DATA_LAT_SERIES,DATA_LONG_SERIES,rr_LAT_SERIES,rr_LONG_SERIES],axis=1)"
      ],
      "metadata": {
        "id": "ZOeteOY3PGXS"
      },
      "execution_count": null,
      "outputs": []
    },
    {
      "cell_type": "code",
      "source": [
        "MAIN_DATA.dropna(inplace=True,axis=0)"
      ],
      "metadata": {
        "id": "cG4OLdThPTf_"
      },
      "execution_count": null,
      "outputs": []
    },
    {
      "cell_type": "code",
      "source": [
        "MAIN_DATA[\"rr_SUM\"] = MAIN_DATA[\"rr_LAT\"] + MAIN_DATA[\"rr_LONG\"]"
      ],
      "metadata": {
        "id": "g6URZ2CPPV3E"
      },
      "execution_count": null,
      "outputs": []
    },
    {
      "cell_type": "code",
      "source": [
        "MAIN_DATA"
      ],
      "metadata": {
        "colab": {
          "base_uri": "https://localhost:8080/",
          "height": 424
        },
        "id": "_b9Z0CEgPieJ",
        "outputId": "7fc30c27-e6ec-466d-dcc6-99cdf8ed05c4"
      },
      "execution_count": null,
      "outputs": [
        {
          "output_type": "execute_result",
          "data": {
            "text/plain": [
              "      LATITUDE  LONGITUDE  rr_LAT  rr_LONG   rr_SUM\n",
              "0    25.049861  -24.95014 -9999.0  -9999.0 -19998.0\n",
              "1    25.149861  -24.85014 -9999.0  -9999.0 -19998.0\n",
              "2    25.249861  -24.75014 -9999.0  -9999.0 -19998.0\n",
              "3    25.349861  -24.65014 -9999.0  -9999.0 -19998.0\n",
              "4    25.449861  -24.55014 -9999.0  -9999.0 -19998.0\n",
              "..         ...        ...     ...      ...      ...\n",
              "460  71.049859   21.04986 -9999.0  -9999.0 -19998.0\n",
              "461  71.149859   21.14986 -9999.0  -9999.0 -19998.0\n",
              "462  71.249859   21.24986 -9999.0  -9999.0 -19998.0\n",
              "463  71.349859   21.34986 -9999.0  -9999.0 -19998.0\n",
              "464  71.449859   21.44986 -9999.0  -9999.0 -19998.0\n",
              "\n",
              "[465 rows x 5 columns]"
            ],
            "text/html": [
              "\n",
              "  <div id=\"df-7f2498a0-52c7-4013-ab2d-9b1612b49c8a\">\n",
              "    <div class=\"colab-df-container\">\n",
              "      <div>\n",
              "<style scoped>\n",
              "    .dataframe tbody tr th:only-of-type {\n",
              "        vertical-align: middle;\n",
              "    }\n",
              "\n",
              "    .dataframe tbody tr th {\n",
              "        vertical-align: top;\n",
              "    }\n",
              "\n",
              "    .dataframe thead th {\n",
              "        text-align: right;\n",
              "    }\n",
              "</style>\n",
              "<table border=\"1\" class=\"dataframe\">\n",
              "  <thead>\n",
              "    <tr style=\"text-align: right;\">\n",
              "      <th></th>\n",
              "      <th>LATITUDE</th>\n",
              "      <th>LONGITUDE</th>\n",
              "      <th>rr_LAT</th>\n",
              "      <th>rr_LONG</th>\n",
              "      <th>rr_SUM</th>\n",
              "    </tr>\n",
              "  </thead>\n",
              "  <tbody>\n",
              "    <tr>\n",
              "      <th>0</th>\n",
              "      <td>25.049861</td>\n",
              "      <td>-24.95014</td>\n",
              "      <td>-9999.0</td>\n",
              "      <td>-9999.0</td>\n",
              "      <td>-19998.0</td>\n",
              "    </tr>\n",
              "    <tr>\n",
              "      <th>1</th>\n",
              "      <td>25.149861</td>\n",
              "      <td>-24.85014</td>\n",
              "      <td>-9999.0</td>\n",
              "      <td>-9999.0</td>\n",
              "      <td>-19998.0</td>\n",
              "    </tr>\n",
              "    <tr>\n",
              "      <th>2</th>\n",
              "      <td>25.249861</td>\n",
              "      <td>-24.75014</td>\n",
              "      <td>-9999.0</td>\n",
              "      <td>-9999.0</td>\n",
              "      <td>-19998.0</td>\n",
              "    </tr>\n",
              "    <tr>\n",
              "      <th>3</th>\n",
              "      <td>25.349861</td>\n",
              "      <td>-24.65014</td>\n",
              "      <td>-9999.0</td>\n",
              "      <td>-9999.0</td>\n",
              "      <td>-19998.0</td>\n",
              "    </tr>\n",
              "    <tr>\n",
              "      <th>4</th>\n",
              "      <td>25.449861</td>\n",
              "      <td>-24.55014</td>\n",
              "      <td>-9999.0</td>\n",
              "      <td>-9999.0</td>\n",
              "      <td>-19998.0</td>\n",
              "    </tr>\n",
              "    <tr>\n",
              "      <th>...</th>\n",
              "      <td>...</td>\n",
              "      <td>...</td>\n",
              "      <td>...</td>\n",
              "      <td>...</td>\n",
              "      <td>...</td>\n",
              "    </tr>\n",
              "    <tr>\n",
              "      <th>460</th>\n",
              "      <td>71.049859</td>\n",
              "      <td>21.04986</td>\n",
              "      <td>-9999.0</td>\n",
              "      <td>-9999.0</td>\n",
              "      <td>-19998.0</td>\n",
              "    </tr>\n",
              "    <tr>\n",
              "      <th>461</th>\n",
              "      <td>71.149859</td>\n",
              "      <td>21.14986</td>\n",
              "      <td>-9999.0</td>\n",
              "      <td>-9999.0</td>\n",
              "      <td>-19998.0</td>\n",
              "    </tr>\n",
              "    <tr>\n",
              "      <th>462</th>\n",
              "      <td>71.249859</td>\n",
              "      <td>21.24986</td>\n",
              "      <td>-9999.0</td>\n",
              "      <td>-9999.0</td>\n",
              "      <td>-19998.0</td>\n",
              "    </tr>\n",
              "    <tr>\n",
              "      <th>463</th>\n",
              "      <td>71.349859</td>\n",
              "      <td>21.34986</td>\n",
              "      <td>-9999.0</td>\n",
              "      <td>-9999.0</td>\n",
              "      <td>-19998.0</td>\n",
              "    </tr>\n",
              "    <tr>\n",
              "      <th>464</th>\n",
              "      <td>71.449859</td>\n",
              "      <td>21.44986</td>\n",
              "      <td>-9999.0</td>\n",
              "      <td>-9999.0</td>\n",
              "      <td>-19998.0</td>\n",
              "    </tr>\n",
              "  </tbody>\n",
              "</table>\n",
              "<p>465 rows × 5 columns</p>\n",
              "</div>\n",
              "      <button class=\"colab-df-convert\" onclick=\"convertToInteractive('df-7f2498a0-52c7-4013-ab2d-9b1612b49c8a')\"\n",
              "              title=\"Convert this dataframe to an interactive table.\"\n",
              "              style=\"display:none;\">\n",
              "        \n",
              "  <svg xmlns=\"http://www.w3.org/2000/svg\" height=\"24px\"viewBox=\"0 0 24 24\"\n",
              "       width=\"24px\">\n",
              "    <path d=\"M0 0h24v24H0V0z\" fill=\"none\"/>\n",
              "    <path d=\"M18.56 5.44l.94 2.06.94-2.06 2.06-.94-2.06-.94-.94-2.06-.94 2.06-2.06.94zm-11 1L8.5 8.5l.94-2.06 2.06-.94-2.06-.94L8.5 2.5l-.94 2.06-2.06.94zm10 10l.94 2.06.94-2.06 2.06-.94-2.06-.94-.94-2.06-.94 2.06-2.06.94z\"/><path d=\"M17.41 7.96l-1.37-1.37c-.4-.4-.92-.59-1.43-.59-.52 0-1.04.2-1.43.59L10.3 9.45l-7.72 7.72c-.78.78-.78 2.05 0 2.83L4 21.41c.39.39.9.59 1.41.59.51 0 1.02-.2 1.41-.59l7.78-7.78 2.81-2.81c.8-.78.8-2.07 0-2.86zM5.41 20L4 18.59l7.72-7.72 1.47 1.35L5.41 20z\"/>\n",
              "  </svg>\n",
              "      </button>\n",
              "      \n",
              "  <style>\n",
              "    .colab-df-container {\n",
              "      display:flex;\n",
              "      flex-wrap:wrap;\n",
              "      gap: 12px;\n",
              "    }\n",
              "\n",
              "    .colab-df-convert {\n",
              "      background-color: #E8F0FE;\n",
              "      border: none;\n",
              "      border-radius: 50%;\n",
              "      cursor: pointer;\n",
              "      display: none;\n",
              "      fill: #1967D2;\n",
              "      height: 32px;\n",
              "      padding: 0 0 0 0;\n",
              "      width: 32px;\n",
              "    }\n",
              "\n",
              "    .colab-df-convert:hover {\n",
              "      background-color: #E2EBFA;\n",
              "      box-shadow: 0px 1px 2px rgba(60, 64, 67, 0.3), 0px 1px 3px 1px rgba(60, 64, 67, 0.15);\n",
              "      fill: #174EA6;\n",
              "    }\n",
              "\n",
              "    [theme=dark] .colab-df-convert {\n",
              "      background-color: #3B4455;\n",
              "      fill: #D2E3FC;\n",
              "    }\n",
              "\n",
              "    [theme=dark] .colab-df-convert:hover {\n",
              "      background-color: #434B5C;\n",
              "      box-shadow: 0px 1px 3px 1px rgba(0, 0, 0, 0.15);\n",
              "      filter: drop-shadow(0px 1px 2px rgba(0, 0, 0, 0.3));\n",
              "      fill: #FFFFFF;\n",
              "    }\n",
              "  </style>\n",
              "\n",
              "      <script>\n",
              "        const buttonEl =\n",
              "          document.querySelector('#df-7f2498a0-52c7-4013-ab2d-9b1612b49c8a button.colab-df-convert');\n",
              "        buttonEl.style.display =\n",
              "          google.colab.kernel.accessAllowed ? 'block' : 'none';\n",
              "\n",
              "        async function convertToInteractive(key) {\n",
              "          const element = document.querySelector('#df-7f2498a0-52c7-4013-ab2d-9b1612b49c8a');\n",
              "          const dataTable =\n",
              "            await google.colab.kernel.invokeFunction('convertToInteractive',\n",
              "                                                     [key], {});\n",
              "          if (!dataTable) return;\n",
              "\n",
              "          const docLinkHtml = 'Like what you see? Visit the ' +\n",
              "            '<a target=\"_blank\" href=https://colab.research.google.com/notebooks/data_table.ipynb>data table notebook</a>'\n",
              "            + ' to learn more about interactive tables.';\n",
              "          element.innerHTML = '';\n",
              "          dataTable['output_type'] = 'display_data';\n",
              "          await google.colab.output.renderOutput(dataTable, element);\n",
              "          const docLink = document.createElement('div');\n",
              "          docLink.innerHTML = docLinkHtml;\n",
              "          element.appendChild(docLink);\n",
              "        }\n",
              "      </script>\n",
              "    </div>\n",
              "  </div>\n",
              "  "
            ]
          },
          "metadata": {},
          "execution_count": 33
        }
      ]
    },
    {
      "cell_type": "code",
      "source": [
        "MAIN_DATA[[\"rr_SUM\"]].describe().T"
      ],
      "metadata": {
        "colab": {
          "base_uri": "https://localhost:8080/",
          "height": 81
        },
        "id": "QN2bjQ-QPsV5",
        "outputId": "e4ccae71-4f0f-4483-8a29-b165652afcf5"
      },
      "execution_count": null,
      "outputs": [
        {
          "output_type": "execute_result",
          "data": {
            "text/plain": [
              "        count          mean         std      min      25%      50%      75%  \\\n",
              "rr_SUM  465.0 -19481.922581  2214.60368 -19998.0 -19998.0 -19998.0 -19998.0   \n",
              "\n",
              "           max  \n",
              "rr_SUM -9999.0  "
            ],
            "text/html": [
              "\n",
              "  <div id=\"df-49112538-23e7-4f36-930a-750da6fc2455\">\n",
              "    <div class=\"colab-df-container\">\n",
              "      <div>\n",
              "<style scoped>\n",
              "    .dataframe tbody tr th:only-of-type {\n",
              "        vertical-align: middle;\n",
              "    }\n",
              "\n",
              "    .dataframe tbody tr th {\n",
              "        vertical-align: top;\n",
              "    }\n",
              "\n",
              "    .dataframe thead th {\n",
              "        text-align: right;\n",
              "    }\n",
              "</style>\n",
              "<table border=\"1\" class=\"dataframe\">\n",
              "  <thead>\n",
              "    <tr style=\"text-align: right;\">\n",
              "      <th></th>\n",
              "      <th>count</th>\n",
              "      <th>mean</th>\n",
              "      <th>std</th>\n",
              "      <th>min</th>\n",
              "      <th>25%</th>\n",
              "      <th>50%</th>\n",
              "      <th>75%</th>\n",
              "      <th>max</th>\n",
              "    </tr>\n",
              "  </thead>\n",
              "  <tbody>\n",
              "    <tr>\n",
              "      <th>rr_SUM</th>\n",
              "      <td>465.0</td>\n",
              "      <td>-19481.922581</td>\n",
              "      <td>2214.60368</td>\n",
              "      <td>-19998.0</td>\n",
              "      <td>-19998.0</td>\n",
              "      <td>-19998.0</td>\n",
              "      <td>-19998.0</td>\n",
              "      <td>-9999.0</td>\n",
              "    </tr>\n",
              "  </tbody>\n",
              "</table>\n",
              "</div>\n",
              "      <button class=\"colab-df-convert\" onclick=\"convertToInteractive('df-49112538-23e7-4f36-930a-750da6fc2455')\"\n",
              "              title=\"Convert this dataframe to an interactive table.\"\n",
              "              style=\"display:none;\">\n",
              "        \n",
              "  <svg xmlns=\"http://www.w3.org/2000/svg\" height=\"24px\"viewBox=\"0 0 24 24\"\n",
              "       width=\"24px\">\n",
              "    <path d=\"M0 0h24v24H0V0z\" fill=\"none\"/>\n",
              "    <path d=\"M18.56 5.44l.94 2.06.94-2.06 2.06-.94-2.06-.94-.94-2.06-.94 2.06-2.06.94zm-11 1L8.5 8.5l.94-2.06 2.06-.94-2.06-.94L8.5 2.5l-.94 2.06-2.06.94zm10 10l.94 2.06.94-2.06 2.06-.94-2.06-.94-.94-2.06-.94 2.06-2.06.94z\"/><path d=\"M17.41 7.96l-1.37-1.37c-.4-.4-.92-.59-1.43-.59-.52 0-1.04.2-1.43.59L10.3 9.45l-7.72 7.72c-.78.78-.78 2.05 0 2.83L4 21.41c.39.39.9.59 1.41.59.51 0 1.02-.2 1.41-.59l7.78-7.78 2.81-2.81c.8-.78.8-2.07 0-2.86zM5.41 20L4 18.59l7.72-7.72 1.47 1.35L5.41 20z\"/>\n",
              "  </svg>\n",
              "      </button>\n",
              "      \n",
              "  <style>\n",
              "    .colab-df-container {\n",
              "      display:flex;\n",
              "      flex-wrap:wrap;\n",
              "      gap: 12px;\n",
              "    }\n",
              "\n",
              "    .colab-df-convert {\n",
              "      background-color: #E8F0FE;\n",
              "      border: none;\n",
              "      border-radius: 50%;\n",
              "      cursor: pointer;\n",
              "      display: none;\n",
              "      fill: #1967D2;\n",
              "      height: 32px;\n",
              "      padding: 0 0 0 0;\n",
              "      width: 32px;\n",
              "    }\n",
              "\n",
              "    .colab-df-convert:hover {\n",
              "      background-color: #E2EBFA;\n",
              "      box-shadow: 0px 1px 2px rgba(60, 64, 67, 0.3), 0px 1px 3px 1px rgba(60, 64, 67, 0.15);\n",
              "      fill: #174EA6;\n",
              "    }\n",
              "\n",
              "    [theme=dark] .colab-df-convert {\n",
              "      background-color: #3B4455;\n",
              "      fill: #D2E3FC;\n",
              "    }\n",
              "\n",
              "    [theme=dark] .colab-df-convert:hover {\n",
              "      background-color: #434B5C;\n",
              "      box-shadow: 0px 1px 3px 1px rgba(0, 0, 0, 0.15);\n",
              "      filter: drop-shadow(0px 1px 2px rgba(0, 0, 0, 0.3));\n",
              "      fill: #FFFFFF;\n",
              "    }\n",
              "  </style>\n",
              "\n",
              "      <script>\n",
              "        const buttonEl =\n",
              "          document.querySelector('#df-49112538-23e7-4f36-930a-750da6fc2455 button.colab-df-convert');\n",
              "        buttonEl.style.display =\n",
              "          google.colab.kernel.accessAllowed ? 'block' : 'none';\n",
              "\n",
              "        async function convertToInteractive(key) {\n",
              "          const element = document.querySelector('#df-49112538-23e7-4f36-930a-750da6fc2455');\n",
              "          const dataTable =\n",
              "            await google.colab.kernel.invokeFunction('convertToInteractive',\n",
              "                                                     [key], {});\n",
              "          if (!dataTable) return;\n",
              "\n",
              "          const docLinkHtml = 'Like what you see? Visit the ' +\n",
              "            '<a target=\"_blank\" href=https://colab.research.google.com/notebooks/data_table.ipynb>data table notebook</a>'\n",
              "            + ' to learn more about interactive tables.';\n",
              "          element.innerHTML = '';\n",
              "          dataTable['output_type'] = 'display_data';\n",
              "          await google.colab.output.renderOutput(dataTable, element);\n",
              "          const docLink = document.createElement('div');\n",
              "          docLink.innerHTML = docLinkHtml;\n",
              "          element.appendChild(docLink);\n",
              "        }\n",
              "      </script>\n",
              "    </div>\n",
              "  </div>\n",
              "  "
            ]
          },
          "metadata": {},
          "execution_count": 34
        }
      ]
    },
    {
      "cell_type": "code",
      "source": [
        "rr_LAT_LONG = rr_COOR_DATA[[\"rr_LAT\",\"rr_LONG\"]]"
      ],
      "metadata": {
        "id": "_OssJb-gQQWf"
      },
      "execution_count": null,
      "outputs": []
    },
    {
      "cell_type": "code",
      "source": [
        "rr_LAT_LONG.COCL_LAT = rr_LAT_LONG.rr_LAT.astype(float)\n",
        "rr_LAT_LONG.COCL_LONG = rr_LAT_LONG.rr_LONG.astype(float)\n"
      ],
      "metadata": {
        "colab": {
          "base_uri": "https://localhost:8080/"
        },
        "id": "olCuz3bwQWrJ",
        "outputId": "70e96698-9034-4e2f-97e8-28c9e0ab9a6c"
      },
      "execution_count": null,
      "outputs": [
        {
          "output_type": "stream",
          "name": "stderr",
          "text": [
            "/usr/local/lib/python3.7/dist-packages/ipykernel_launcher.py:1: UserWarning: Pandas doesn't allow columns to be created via a new attribute name - see https://pandas.pydata.org/pandas-docs/stable/indexing.html#attribute-access\n",
            "  \"\"\"Entry point for launching an IPython kernel.\n",
            "/usr/local/lib/python3.7/dist-packages/ipykernel_launcher.py:2: UserWarning: Pandas doesn't allow columns to be created via a new attribute name - see https://pandas.pydata.org/pandas-docs/stable/indexing.html#attribute-access\n",
            "  \n"
          ]
        }
      ]
    },
    {
      "cell_type": "code",
      "source": [
        "import geopandas\n",
        "from shapely.geometry import mapping"
      ],
      "metadata": {
        "id": "A7IMjqWrBVjr"
      },
      "execution_count": null,
      "outputs": []
    },
    {
      "cell_type": "code",
      "source": [
        "hist_rr = nc['rr']"
      ],
      "metadata": {
        "id": "7CqZnBaxBWhU"
      },
      "execution_count": null,
      "outputs": []
    },
    {
      "cell_type": "code",
      "source": [
        "region = '/content/drive/MyDrive/Dataset/rr_ens_mean_0.1deg_reg_2011-2021_v25.0e.nc' #put path of shapefile here\n",
        "\n",
        "#Use this function if you want to mask over shapefile region\n",
        "def mask(tas):\n",
        "    tas.rio.set_spatial_dims(x_dim=\"longitude\", y_dim=\"latitude\", inplace=True)\n",
        "    tas.rio.write_crs(\"epsg:4326\", inplace=True)\n",
        "    Shape = geopandas.read_file(region, crs=\"epsg:4326\")\n",
        "    \n",
        "    clipped = tas.rio.clip(Shape.geometry.apply(mapping), Shape.crs, drop=False)\n",
        "    return clipped"
      ],
      "metadata": {
        "id": "icgh50W-BmD0"
      },
      "execution_count": null,
      "outputs": []
    },
    {
      "cell_type": "code",
      "source": [
        "def annual(month):\n",
        "    return (month >= 1) & (month <=12)\n",
        "\n",
        "#Seasonal Mean\n",
        "def jjas(month):\n",
        "    return (month >= 6) & (month <= 9)\n",
        "\n",
        "def jja(month):\n",
        "    return (month >= 6) & (month <= 8)\n",
        "\n",
        "def djf(month):\n",
        "    return (month >= 12) | (month <= 2)"
      ],
      "metadata": {
        "id": "nooGceu2CEYK"
      },
      "execution_count": null,
      "outputs": []
    },
    {
      "cell_type": "code",
      "source": [
        "def time_av(tas, ds, month):\n",
        "    tas = tas.sel(time=slice('1990-01-16', '2019-12-16')) #use time slice to select the years you want to look at. \n",
        "                                                          #Make sure it's the same for both tas and time.\n",
        "    tas = tas.sel(time = month(tas['time.month']))\n",
        "    tas = tas.mean(('longitude', 'latitude'))\n",
        "    tas = tas.groupby('time.year').mean('time')\n",
        "    time = ds['time'].sel(time=slice('1901-01-16', '2019-12-16'))\n",
        "    time = time.groupby('time.year').mean('time')\n",
        "    return tas, time"
      ],
      "metadata": {
        "id": "XZvjjVbqCKht"
      },
      "execution_count": 49,
      "outputs": []
    },
    {
      "cell_type": "code",
      "source": [
        "t_period = annual #choose time period from annual and seasonal mean functions above\n",
        "hist_tas, hist_time = time_av(hist_rr, nc, t_period) #calculates means for temperature and time"
      ],
      "metadata": {
        "colab": {
          "base_uri": "https://localhost:8080/",
          "height": 443
        },
        "id": "vPTie1pDCXIQ",
        "outputId": "4ea7b898-5a36-460d-8f32-f2f2081c601f"
      },
      "execution_count": 50,
      "outputs": [
        {
          "output_type": "error",
          "ename": "AttributeError",
          "evalue": "ignored",
          "traceback": [
            "\u001b[0;31m---------------------------------------------------------------------------\u001b[0m",
            "\u001b[0;31mAttributeError\u001b[0m                            Traceback (most recent call last)",
            "\u001b[0;32m<ipython-input-50-c99ea567af2f>\u001b[0m in \u001b[0;36m<module>\u001b[0;34m()\u001b[0m\n\u001b[1;32m      1\u001b[0m \u001b[0mt_period\u001b[0m \u001b[0;34m=\u001b[0m \u001b[0mannual\u001b[0m \u001b[0;31m#choose time period from annual and seasonal mean functions above\u001b[0m\u001b[0;34m\u001b[0m\u001b[0;34m\u001b[0m\u001b[0m\n\u001b[0;32m----> 2\u001b[0;31m \u001b[0mhist_tas\u001b[0m\u001b[0;34m,\u001b[0m \u001b[0mhist_time\u001b[0m \u001b[0;34m=\u001b[0m \u001b[0mtime_av\u001b[0m\u001b[0;34m(\u001b[0m\u001b[0mhist_rr\u001b[0m\u001b[0;34m,\u001b[0m \u001b[0mnc\u001b[0m\u001b[0;34m,\u001b[0m \u001b[0mt_period\u001b[0m\u001b[0;34m)\u001b[0m \u001b[0;31m#calculates means for temperature and time\u001b[0m\u001b[0;34m\u001b[0m\u001b[0;34m\u001b[0m\u001b[0m\n\u001b[0m",
            "\u001b[0;32m<ipython-input-49-ae41645abdf9>\u001b[0m in \u001b[0;36mtime_av\u001b[0;34m(tas, ds, month)\u001b[0m\n\u001b[1;32m      1\u001b[0m \u001b[0;32mdef\u001b[0m \u001b[0mtime_av\u001b[0m\u001b[0;34m(\u001b[0m\u001b[0mtas\u001b[0m\u001b[0;34m,\u001b[0m \u001b[0mds\u001b[0m\u001b[0;34m,\u001b[0m \u001b[0mmonth\u001b[0m\u001b[0;34m)\u001b[0m\u001b[0;34m:\u001b[0m\u001b[0;34m\u001b[0m\u001b[0;34m\u001b[0m\u001b[0m\n\u001b[0;32m----> 2\u001b[0;31m     \u001b[0mtas\u001b[0m \u001b[0;34m=\u001b[0m \u001b[0mtas\u001b[0m\u001b[0;34m.\u001b[0m\u001b[0msel\u001b[0m\u001b[0;34m(\u001b[0m\u001b[0mtime\u001b[0m\u001b[0;34m=\u001b[0m\u001b[0mslice\u001b[0m\u001b[0;34m(\u001b[0m\u001b[0;34m'1990-01-16'\u001b[0m\u001b[0;34m,\u001b[0m \u001b[0;34m'2019-12-16'\u001b[0m\u001b[0;34m)\u001b[0m\u001b[0;34m)\u001b[0m \u001b[0;31m#use time slice to select the years you want to look at.\u001b[0m\u001b[0;34m\u001b[0m\u001b[0;34m\u001b[0m\u001b[0m\n\u001b[0m\u001b[1;32m      3\u001b[0m                                                           \u001b[0;31m#Make sure it's the same for both tas and time.\u001b[0m\u001b[0;34m\u001b[0m\u001b[0;34m\u001b[0m\u001b[0;34m\u001b[0m\u001b[0m\n\u001b[1;32m      4\u001b[0m     \u001b[0mtas\u001b[0m \u001b[0;34m=\u001b[0m \u001b[0mtas\u001b[0m\u001b[0;34m.\u001b[0m\u001b[0msel\u001b[0m\u001b[0;34m(\u001b[0m\u001b[0mtime\u001b[0m \u001b[0;34m=\u001b[0m \u001b[0mmonth\u001b[0m\u001b[0;34m(\u001b[0m\u001b[0mtas\u001b[0m\u001b[0;34m[\u001b[0m\u001b[0;34m'time.month'\u001b[0m\u001b[0;34m]\u001b[0m\u001b[0;34m)\u001b[0m\u001b[0;34m)\u001b[0m\u001b[0;34m\u001b[0m\u001b[0;34m\u001b[0m\u001b[0m\n\u001b[1;32m      5\u001b[0m     \u001b[0mtas\u001b[0m \u001b[0;34m=\u001b[0m \u001b[0mtas\u001b[0m\u001b[0;34m.\u001b[0m\u001b[0mmean\u001b[0m\u001b[0;34m(\u001b[0m\u001b[0;34m(\u001b[0m\u001b[0;34m'longitude'\u001b[0m\u001b[0;34m,\u001b[0m \u001b[0;34m'latitude'\u001b[0m\u001b[0;34m)\u001b[0m\u001b[0;34m)\u001b[0m\u001b[0;34m\u001b[0m\u001b[0;34m\u001b[0m\u001b[0m\n",
            "\u001b[0;32msrc/netCDF4/_netCDF4.pyx\u001b[0m in \u001b[0;36mnetCDF4._netCDF4.Variable.__getattr__\u001b[0;34m()\u001b[0m\n",
            "\u001b[0;32msrc/netCDF4/_netCDF4.pyx\u001b[0m in \u001b[0;36mnetCDF4._netCDF4.Variable.getncattr\u001b[0;34m()\u001b[0m\n",
            "\u001b[0;32msrc/netCDF4/_netCDF4.pyx\u001b[0m in \u001b[0;36mnetCDF4._netCDF4._get_att\u001b[0;34m()\u001b[0m\n",
            "\u001b[0;32msrc/netCDF4/_netCDF4.pyx\u001b[0m in \u001b[0;36mnetCDF4._netCDF4._ensure_nc_success\u001b[0;34m()\u001b[0m\n",
            "\u001b[0;31mAttributeError\u001b[0m: NetCDF: Attribute not found"
          ]
        }
      ]
    },
    {
      "cell_type": "code",
      "source": [
        "plt.figure(figsize=(12,7))\n",
        "plt.plot(hist_time, hist_tas) \n",
        "\n",
        "#Label the plot\n",
        "plt.xlabel(\"Years\", fontsize = 'xx-large')\n",
        "plt.ylabel('Temperature (\\u2103)', fontsize = 'xx-large') \n",
        "plt.tick_params(labelsize = 'xx-large')\n",
        "plt.title(\"India Annual Minimum Near Surface Temperature\", fontsize=20, y=1.05)\n",
        "\n",
        "plt.savefig('') #put in path where you want the image to be saved"
      ],
      "metadata": {
        "id": "cAFA5NKxC9GU",
        "outputId": "67a60901-89a9-4355-8cd7-48692d31baf4",
        "colab": {
          "base_uri": "https://localhost:8080/",
          "height": 252
        }
      },
      "execution_count": null,
      "outputs": [
        {
          "output_type": "error",
          "ename": "NameError",
          "evalue": "ignored",
          "traceback": [
            "\u001b[0;31m---------------------------------------------------------------------------\u001b[0m",
            "\u001b[0;31mNameError\u001b[0m                                 Traceback (most recent call last)",
            "\u001b[0;32m<ipython-input-45-e674cf3ee1de>\u001b[0m in \u001b[0;36m<module>\u001b[0;34m()\u001b[0m\n\u001b[1;32m      1\u001b[0m \u001b[0mplt\u001b[0m\u001b[0;34m.\u001b[0m\u001b[0mfigure\u001b[0m\u001b[0;34m(\u001b[0m\u001b[0mfigsize\u001b[0m\u001b[0;34m=\u001b[0m\u001b[0;34m(\u001b[0m\u001b[0;36m12\u001b[0m\u001b[0;34m,\u001b[0m\u001b[0;36m7\u001b[0m\u001b[0;34m)\u001b[0m\u001b[0;34m)\u001b[0m\u001b[0;34m\u001b[0m\u001b[0;34m\u001b[0m\u001b[0m\n\u001b[0;32m----> 2\u001b[0;31m \u001b[0mplt\u001b[0m\u001b[0;34m.\u001b[0m\u001b[0mplot\u001b[0m\u001b[0;34m(\u001b[0m\u001b[0mhist_time\u001b[0m\u001b[0;34m,\u001b[0m \u001b[0mhist_tas\u001b[0m\u001b[0;34m)\u001b[0m\u001b[0;34m\u001b[0m\u001b[0;34m\u001b[0m\u001b[0m\n\u001b[0m\u001b[1;32m      3\u001b[0m \u001b[0;34m\u001b[0m\u001b[0m\n\u001b[1;32m      4\u001b[0m \u001b[0;31m#Label the plot\u001b[0m\u001b[0;34m\u001b[0m\u001b[0;34m\u001b[0m\u001b[0;34m\u001b[0m\u001b[0m\n\u001b[1;32m      5\u001b[0m \u001b[0mplt\u001b[0m\u001b[0;34m.\u001b[0m\u001b[0mxlabel\u001b[0m\u001b[0;34m(\u001b[0m\u001b[0;34m\"Years\"\u001b[0m\u001b[0;34m,\u001b[0m \u001b[0mfontsize\u001b[0m \u001b[0;34m=\u001b[0m \u001b[0;34m'xx-large'\u001b[0m\u001b[0;34m)\u001b[0m\u001b[0;34m\u001b[0m\u001b[0;34m\u001b[0m\u001b[0m\n",
            "\u001b[0;31mNameError\u001b[0m: name 'hist_time' is not defined"
          ]
        },
        {
          "output_type": "display_data",
          "data": {
            "text/plain": [
              "<Figure size 864x504 with 0 Axes>"
            ]
          },
          "metadata": {}
        }
      ]
    },
    {
      "cell_type": "code",
      "source": [
        ""
      ],
      "metadata": {
        "id": "5GNbiIxSReJy"
      },
      "execution_count": null,
      "outputs": []
    },
    {
      "cell_type": "code",
      "source": [
        "import matplotlib.pyplot as plt\n",
        "import xarray as xr\n",
        "import geopandas\n",
        "from shapely.geometry import mapping\n",
        "\n",
        "\n",
        "hist_ds = xr.open_dataset('absolute.nc') #put in path of netcdf file \n",
        "hist_tas = hist_ds['tmp']  #put in variable name. If unsure type hist_ds into the console to find it. Use -273.15 to convert kelvin to celcius if needed\n",
        "\n",
        "region = '' #put path of shapefile here\n",
        "\n",
        "#Use this function if you want to mask over shapefile region\n",
        "def mask(tas):\n",
        "    tas.rio.set_spatial_dims(x_dim=\"lon\", y_dim=\"lat\", inplace=True)\n",
        "    tas.rio.write_crs(\"epsg:4326\", inplace=True)\n",
        "    Shape = geopandas.read_file(region, crs=\"epsg:4326\")\n",
        "    \n",
        "    clipped = tas.rio.clip(Shape.geometry.apply(mapping), Shape.crs, drop=False)\n",
        "    return clipped\n",
        "\n",
        "#hist_mask = mask(hist_tas) #use this in the time function if you want to mask\n",
        "\n",
        "#Annual Mean\n",
        "def annual(month):\n",
        "    return (month >= 1) & (month <=12)\n",
        "\n",
        "#Seasonal Mean\n",
        "def jjas(month):\n",
        "    return (month >= 6) & (month <= 9)\n",
        "\n",
        "def jja(month):\n",
        "    return (month >= 6) & (month <= 8)\n",
        "\n",
        "def djf(month):\n",
        "    return (month >= 12) | (month <= 2)\n",
        "\n",
        "#function calculates an annual average of temperature and time\n",
        "def time_av(tas, ds, month):\n",
        "    tas = tas.sel(time=slice('1901-01-16', '2019-12-16')) #use time slice to select the years you want to look at. \n",
        "                                                          #Make sure it's the same for both tas and time.\n",
        "    tas = tas.sel(time = month(tas['time.month']))\n",
        "    tas = tas.mean(('lon', 'lat'))\n",
        "    tas = tas.groupby('time.year').mean('time')\n",
        "    time = ds['time'].sel(time=slice('1901-01-16', '2019-12-16'))\n",
        "    time = time.groupby('time.year').mean('time')\n",
        "    return tas, time\n",
        "\n",
        "t_period = annual #choose time period from annual and seasonal mean functions above\n",
        "hist_tas, hist_time = time_av(hist_tas, hist_ds, t_period) #calculates means for temperature and time\n",
        "\n",
        "#Create the plot\n",
        "plt.figure(figsize=(12,7))\n",
        "plt.plot(hist_time, hist_tas) \n",
        "\n",
        "#Label the plot\n",
        "plt.xlabel(\"Years\", fontsize = 'xx-large')\n",
        "plt.ylabel('Temperature (\\u2103)', fontsize = 'xx-large') \n",
        "plt.tick_params(labelsize = 'xx-large')\n",
        "plt.title(\"India Annual Minimum Near Surface Temperature\", fontsize=20, y=1.05)\n",
        "\n",
        "plt.savefig('') #put in path where you want the image to be saved"
      ],
      "metadata": {
        "colab": {
          "base_uri": "https://localhost:8080/",
          "height": 432
        },
        "id": "MP_PMm-FReNJ",
        "outputId": "4c2f85cb-9c1c-4c93-99ac-7cdc8c6ee9b2"
      },
      "execution_count": 51,
      "outputs": [
        {
          "output_type": "error",
          "ename": "KeyError",
          "evalue": "ignored",
          "traceback": [
            "\u001b[0;31m---------------------------------------------------------------------------\u001b[0m",
            "\u001b[0;31mKeyError\u001b[0m                                  Traceback (most recent call last)",
            "\u001b[0;32m/usr/local/lib/python3.7/dist-packages/xarray/core/dataset.py\u001b[0m in \u001b[0;36m_construct_dataarray\u001b[0;34m(self, name)\u001b[0m\n\u001b[1;32m   1394\u001b[0m         \u001b[0;32mtry\u001b[0m\u001b[0;34m:\u001b[0m\u001b[0;34m\u001b[0m\u001b[0;34m\u001b[0m\u001b[0m\n\u001b[0;32m-> 1395\u001b[0;31m             \u001b[0mvariable\u001b[0m \u001b[0;34m=\u001b[0m \u001b[0mself\u001b[0m\u001b[0;34m.\u001b[0m\u001b[0m_variables\u001b[0m\u001b[0;34m[\u001b[0m\u001b[0mname\u001b[0m\u001b[0;34m]\u001b[0m\u001b[0;34m\u001b[0m\u001b[0;34m\u001b[0m\u001b[0m\n\u001b[0m\u001b[1;32m   1396\u001b[0m         \u001b[0;32mexcept\u001b[0m \u001b[0mKeyError\u001b[0m\u001b[0;34m:\u001b[0m\u001b[0;34m\u001b[0m\u001b[0;34m\u001b[0m\u001b[0m\n",
            "\u001b[0;31mKeyError\u001b[0m: 'tmp'",
            "\nDuring handling of the above exception, another exception occurred:\n",
            "\u001b[0;31mKeyError\u001b[0m                                  Traceback (most recent call last)",
            "\u001b[0;32m<ipython-input-51-172a4da6e0ea>\u001b[0m in \u001b[0;36m<module>\u001b[0;34m()\u001b[0m\n\u001b[1;32m      6\u001b[0m \u001b[0;34m\u001b[0m\u001b[0m\n\u001b[1;32m      7\u001b[0m \u001b[0mhist_ds\u001b[0m \u001b[0;34m=\u001b[0m \u001b[0mxr\u001b[0m\u001b[0;34m.\u001b[0m\u001b[0mopen_dataset\u001b[0m\u001b[0;34m(\u001b[0m\u001b[0;34m'absolute.nc'\u001b[0m\u001b[0;34m)\u001b[0m \u001b[0;31m#put in path of netcdf file\u001b[0m\u001b[0;34m\u001b[0m\u001b[0;34m\u001b[0m\u001b[0m\n\u001b[0;32m----> 8\u001b[0;31m \u001b[0mhist_tas\u001b[0m \u001b[0;34m=\u001b[0m \u001b[0mhist_ds\u001b[0m\u001b[0;34m[\u001b[0m\u001b[0;34m'tmp'\u001b[0m\u001b[0;34m]\u001b[0m  \u001b[0;31m#put in variable name. If unsure type hist_ds into the console to find it. Use -273.15 to convert kelvin to celcius if needed\u001b[0m\u001b[0;34m\u001b[0m\u001b[0;34m\u001b[0m\u001b[0m\n\u001b[0m\u001b[1;32m      9\u001b[0m \u001b[0;34m\u001b[0m\u001b[0m\n\u001b[1;32m     10\u001b[0m \u001b[0mregion\u001b[0m \u001b[0;34m=\u001b[0m \u001b[0;34m''\u001b[0m \u001b[0;31m#put path of shapefile here\u001b[0m\u001b[0;34m\u001b[0m\u001b[0;34m\u001b[0m\u001b[0m\n",
            "\u001b[0;32m/usr/local/lib/python3.7/dist-packages/xarray/core/dataset.py\u001b[0m in \u001b[0;36m__getitem__\u001b[0;34m(self, key)\u001b[0m\n\u001b[1;32m   1497\u001b[0m \u001b[0;34m\u001b[0m\u001b[0m\n\u001b[1;32m   1498\u001b[0m         \u001b[0;32mif\u001b[0m \u001b[0mhashable\u001b[0m\u001b[0;34m(\u001b[0m\u001b[0mkey\u001b[0m\u001b[0;34m)\u001b[0m\u001b[0;34m:\u001b[0m\u001b[0;34m\u001b[0m\u001b[0;34m\u001b[0m\u001b[0m\n\u001b[0;32m-> 1499\u001b[0;31m             \u001b[0;32mreturn\u001b[0m \u001b[0mself\u001b[0m\u001b[0;34m.\u001b[0m\u001b[0m_construct_dataarray\u001b[0m\u001b[0;34m(\u001b[0m\u001b[0mkey\u001b[0m\u001b[0;34m)\u001b[0m\u001b[0;34m\u001b[0m\u001b[0;34m\u001b[0m\u001b[0m\n\u001b[0m\u001b[1;32m   1500\u001b[0m         \u001b[0;32melse\u001b[0m\u001b[0;34m:\u001b[0m\u001b[0;34m\u001b[0m\u001b[0;34m\u001b[0m\u001b[0m\n\u001b[1;32m   1501\u001b[0m             \u001b[0;32mreturn\u001b[0m \u001b[0mself\u001b[0m\u001b[0;34m.\u001b[0m\u001b[0m_copy_listed\u001b[0m\u001b[0;34m(\u001b[0m\u001b[0mkey\u001b[0m\u001b[0;34m)\u001b[0m\u001b[0;34m\u001b[0m\u001b[0;34m\u001b[0m\u001b[0m\n",
            "\u001b[0;32m/usr/local/lib/python3.7/dist-packages/xarray/core/dataset.py\u001b[0m in \u001b[0;36m_construct_dataarray\u001b[0;34m(self, name)\u001b[0m\n\u001b[1;32m   1396\u001b[0m         \u001b[0;32mexcept\u001b[0m \u001b[0mKeyError\u001b[0m\u001b[0;34m:\u001b[0m\u001b[0;34m\u001b[0m\u001b[0;34m\u001b[0m\u001b[0m\n\u001b[1;32m   1397\u001b[0m             _, name, variable = _get_virtual_variable(\n\u001b[0;32m-> 1398\u001b[0;31m                 \u001b[0mself\u001b[0m\u001b[0;34m.\u001b[0m\u001b[0m_variables\u001b[0m\u001b[0;34m,\u001b[0m \u001b[0mname\u001b[0m\u001b[0;34m,\u001b[0m \u001b[0mself\u001b[0m\u001b[0;34m.\u001b[0m\u001b[0m_level_coords\u001b[0m\u001b[0;34m,\u001b[0m \u001b[0mself\u001b[0m\u001b[0;34m.\u001b[0m\u001b[0mdims\u001b[0m\u001b[0;34m\u001b[0m\u001b[0;34m\u001b[0m\u001b[0m\n\u001b[0m\u001b[1;32m   1399\u001b[0m             )\n\u001b[1;32m   1400\u001b[0m \u001b[0;34m\u001b[0m\u001b[0m\n",
            "\u001b[0;32m/usr/local/lib/python3.7/dist-packages/xarray/core/dataset.py\u001b[0m in \u001b[0;36m_get_virtual_variable\u001b[0;34m(variables, key, level_vars, dim_sizes)\u001b[0m\n\u001b[1;32m    168\u001b[0m         \u001b[0mref_var\u001b[0m \u001b[0;34m=\u001b[0m \u001b[0mdim_var\u001b[0m\u001b[0;34m.\u001b[0m\u001b[0mto_index_variable\u001b[0m\u001b[0;34m(\u001b[0m\u001b[0;34m)\u001b[0m\u001b[0;34m.\u001b[0m\u001b[0mget_level_variable\u001b[0m\u001b[0;34m(\u001b[0m\u001b[0mref_name\u001b[0m\u001b[0;34m)\u001b[0m\u001b[0;34m\u001b[0m\u001b[0;34m\u001b[0m\u001b[0m\n\u001b[1;32m    169\u001b[0m     \u001b[0;32melse\u001b[0m\u001b[0;34m:\u001b[0m\u001b[0;34m\u001b[0m\u001b[0;34m\u001b[0m\u001b[0m\n\u001b[0;32m--> 170\u001b[0;31m         \u001b[0mref_var\u001b[0m \u001b[0;34m=\u001b[0m \u001b[0mvariables\u001b[0m\u001b[0;34m[\u001b[0m\u001b[0mref_name\u001b[0m\u001b[0;34m]\u001b[0m\u001b[0;34m\u001b[0m\u001b[0;34m\u001b[0m\u001b[0m\n\u001b[0m\u001b[1;32m    171\u001b[0m \u001b[0;34m\u001b[0m\u001b[0m\n\u001b[1;32m    172\u001b[0m     \u001b[0;32mif\u001b[0m \u001b[0mvar_name\u001b[0m \u001b[0;32mis\u001b[0m \u001b[0;32mNone\u001b[0m\u001b[0;34m:\u001b[0m\u001b[0;34m\u001b[0m\u001b[0;34m\u001b[0m\u001b[0m\n",
            "\u001b[0;31mKeyError\u001b[0m: 'tmp'"
          ]
        }
      ]
    }
  ]
}